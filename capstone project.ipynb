{
 "cells": [
  {
   "cell_type": "code",
   "execution_count": null,
   "id": "d6463901-2e29-4f25-81a8-1c0d88fd09fa",
   "metadata": {},
   "outputs": [],
   "source": [
    "1.Imports & File Paths"
   ]
  },
  {
   "cell_type": "code",
   "execution_count": null,
   "id": "58a0d6b5-4d43-4e22-ad85-6eae33ead88a",
   "metadata": {},
   "outputs": [],
   "source": [
    "import pandas as pd\n",
    "import numpy as np\n",
    "import io\n",
    "import matplotlib.pyplot as plt\n",
    "\n",
    "female_path = \"/mnt/data/nhanes_adult_female_bmx_2020.csv\"\n",
    "male_path   = \"/mnt/data/nhanes_adult_male_bmx_2020.csv\""
   ]
  },
  {
   "cell_type": "code",
   "execution_count": null,
   "id": "8d27c883-31e8-4d05-9bb6-35a17a85dc18",
   "metadata": {},
   "outputs": [],
   "source": [
    "2. Function to Load and Clean Data"
   ]
  },
  {
   "cell_type": "code",
   "execution_count": null,
   "id": "691d8a22-413b-4267-9722-bfb4933b7c51",
   "metadata": {},
   "outputs": [],
   "source": [
    "def read_nhanes_bmx(path: str, sex_label: str) -> pd.DataFrame:\n",
    "    with open(path, \"r\", encoding=\"utf-8\") as f:\n",
    "        lines = f.readlines()\n",
    "    header_idx = None\n",
    "    for i, line in enumerate(lines):\n",
    "        if line.strip().startswith('\"BMXWT\"') or line.strip().startswith('BMXWT'):\n",
    "            header_idx = i\n",
    "            break\n",
    "\n",
    "    content = \"\".join(lines[header_idx:])\n",
    "    df = pd.read_csv(io.StringIO(content))\n",
    "    \n",
    "    \n",
    "    df.columns = [c.replace('\"','').strip() for c in df.columns]\n",
    "    \n",
    "    \n",
    "    expected_cols = [\"BMXWT\",\"BMXHT\",\"BMXARML\",\"BMXLEG\",\"BMXARMC\",\"BMXHIP\",\"BMXWAIST\"]\n",
    "    present = [c for c in expected_cols if c in df.columns]\n",
    "    df = df[present].copy()\n",
    "    \n",
    "    \n",
    "    df[\"sex\"] = sex_label\n",
    "    return df\n"
   ]
  },
  {
   "cell_type": "code",
   "execution_count": null,
   "id": "7b8856eb-1f57-4860-87f0-217052fa61a8",
   "metadata": {},
   "outputs": [],
   "source": [
    "3. Load & Combine Male and Female Data"
   ]
  },
  {
   "cell_type": "code",
   "execution_count": null,
   "id": "5d1780be-7c6f-47a5-aa49-7a09dbe6ba06",
   "metadata": {},
   "outputs": [],
   "source": [
    "df_f = read_nhanes_bmx(female_path, \"Female\")\n",
    "df_m = read_nhanes_bmx(male_path,   \"Male\")\n",
    "df = pd.concat([df_f, df_m], ignore_index=True)\n"
   ]
  },
  {
   "cell_type": "code",
   "execution_count": null,
   "id": "e995ac4a-094f-43a6-bf46-1e40d958b4a8",
   "metadata": {},
   "outputs": [],
   "source": [
    "4. Create New Health Metrics"
   ]
  },
  {
   "cell_type": "code",
   "execution_count": null,
   "id": "148fc8c1-d06c-4ca9-a4d1-623ab8ee9ae8",
   "metadata": {},
   "outputs": [],
   "source": [
    "df[\"height_m\"] = df[\"BMXHT\"] / 100.0\n",
    "df[\"BMI\"] = df[\"BMXWT\"] / (df[\"height_m\"]**2)\n",
    "df[\"WHR\"] = df[\"BMXWAIST\"] / df[\"BMXHIP\"]\n",
    "df[\"WHtR\"] = df[\"BMXWAIST\"] / df[\"BMXHT\"]\n"
   ]
  },
  {
   "cell_type": "code",
   "execution_count": null,
   "id": "a4565c86-621e-439e-9329-bfc49352bb8e",
   "metadata": {},
   "outputs": [],
   "source": [
    "5. Filter Out Bad Data"
   ]
  },
  {
   "cell_type": "code",
   "execution_count": null,
   "id": "5987dca6-bc4d-45ba-a6ec-e5aa91454b20",
   "metadata": {},
   "outputs": [],
   "source": [
    "mask_valid = (\n",
    "    (df[\"BMXWT\"] > 0) &\n",
    "    (df[\"BMXHT\"] > 0) &\n",
    "    (df[\"BMXHIP\"] > 0) &\n",
    "    (df[\"BMXWAIST\"] > 0)\n",
    ")\n",
    "df = df.loc[mask_valid].copy()\n"
   ]
  },
  {
   "cell_type": "code",
   "execution_count": null,
   "id": "56be1bef-543b-488d-a9ca-93f9db97d964",
   "metadata": {},
   "outputs": [],
   "source": [
    "6. Classify BMI Categories"
   ]
  },
  {
   "cell_type": "code",
   "execution_count": null,
   "id": "e185c26e-9810-45d8-9b51-b04f6fd0cd60",
   "metadata": {},
   "outputs": [],
   "source": [
    "def bmi_category(bmi: float) -> str:\n",
    "    if pd.isna(bmi):\n",
    "        return \"Missing\"\n",
    "    if bmi < 18.5: return \"Underweight\"\n",
    "    if bmi < 25:   return \"Normal\"\n",
    "    if bmi < 30:   return \"Overweight\"\n",
    "    return \"Obese\"\n",
    "\n",
    "df[\"BMI_Category\"] = df[\"BMI\"].apply(bmi_category)\n"
   ]
  },
  {
   "cell_type": "code",
   "execution_count": null,
   "id": "017714e8-c631-4b20-9978-687c9a73bebe",
   "metadata": {},
   "outputs": [],
   "source": [
    "7. Summary Statistics"
   ]
  },
  {
   "cell_type": "code",
   "execution_count": null,
   "id": "9982d770-8ed4-4d21-affd-1caf31d0122b",
   "metadata": {},
   "outputs": [],
   "source": [
    "def summary_by_sex(metric: str) -> pd.DataFrame:\n",
    "    g = df.groupby(\"sex\")[metric].agg([\"count\",\"mean\",\"std\",\"min\",\"median\",\"max\"])\n",
    "    return g.round(2)\n"
   ]
  },
  {
   "cell_type": "code",
   "execution_count": null,
   "id": "63e1dd3b-1058-44d6-939a-167ab4688233",
   "metadata": {},
   "outputs": [],
   "source": [
    "8. BMI Category Distribution"
   ]
  },
  {
   "cell_type": "code",
   "execution_count": null,
   "id": "6de31c6a-3825-4bd7-8ce2-5745659697a9",
   "metadata": {},
   "outputs": [],
   "source": [
    "bmi_ct = pd.crosstab(df[\"sex\"], df[\"BMI_Category\"]).reindex(columns=[\"Underweight\",\"Normal\",\"Overweight\",\"Obese\"], fill_value=0)\n",
    "bmi_pct = (bmi_ct.div(bmi_ct.sum(axis=1), axis=0) * 100).round(1)\n"
   ]
  },
  {
   "cell_type": "code",
   "execution_count": null,
   "id": "776030fd-e1b5-4f10-bc7b-fb4634018b7c",
   "metadata": {},
   "outputs": [],
   "source": [
    "9. Correlation Matrix"
   ]
  },
  {
   "cell_type": "code",
   "execution_count": null,
   "id": "dd3c1e97-e3a1-4f7a-a441-3ef1249dcefe",
   "metadata": {},
   "outputs": [],
   "source": [
    "corr_cols = [\"BMXWT\", \"BMXHT\", \"BMXWAIST\", \"BMXHIP\", \"BMI\", \"WHR\", \"WHtR\"]\n",
    "present_corr = [c for c in corr_cols if c in df.columns]\n",
    "corr = df[present_corr].corr().round(3)\n"
   ]
  },
  {
   "cell_type": "code",
   "execution_count": null,
   "id": "ef3c6f47-2615-474e-8ad5-344ae2d262a2",
   "metadata": {},
   "outputs": [],
   "source": [
    "10. Plots"
   ]
  },
  {
   "cell_type": "code",
   "execution_count": null,
   "id": "7eeec0cc-747e-4eb4-9e4a-39ff94d85403",
   "metadata": {},
   "outputs": [],
   "source": [
    "for sex in [\"Female\", \"Male\"]:\n",
    "    sub = df[df[\"sex\"] == sex]\n",
    "    plt.figure()\n",
    "    plt.hist(sub[\"BMI\"].dropna(), bins=20)\n",
    "    plt.title(f\"BMI distribution — {sex}\")\n",
    "    plt.xlabel(\"BMI\")\n",
    "    plt.ylabel(\"Frequency\")\n",
    "    plt.show()\n",
    "\n",
    "for sex in [\"Female\", \"Male\"]:\n",
    "    sub = df[df[\"sex\"] == sex]\n",
    "    plt.figure()\n",
    "    plt.hist(sub[\"WHtR\"].dropna(), bins=20)\n",
    "    plt.title(f\"Waist-to-Height Ratio (WHtR) — {sex}\")\n",
    "    plt.xlabel(\"WHtR\")\n",
    "    plt.ylabel(\"Frequency\")\n",
    "    plt.show()\n"
   ]
  }
 ],
 "metadata": {
  "kernelspec": {
   "display_name": "Python [conda env:base] *",
   "language": "python",
   "name": "conda-base-py"
  },
  "language_info": {
   "codemirror_mode": {
    "name": "ipython",
    "version": 3
   },
   "file_extension": ".py",
   "mimetype": "text/x-python",
   "name": "python",
   "nbconvert_exporter": "python",
   "pygments_lexer": "ipython3",
   "version": "3.13.5"
  }
 },
 "nbformat": 4,
 "nbformat_minor": 5
}
